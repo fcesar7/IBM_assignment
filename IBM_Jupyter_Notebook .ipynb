{
 "cells": [
  {
   "cell_type": "markdown",
   "metadata": {},
   "source": [
    "# My Jupyter Notebook on IBM Watson Studio\n"
   ]
  },
  {
   "cell_type": "markdown",
   "metadata": {},
   "source": [
    "**Francisco** <br> Mechanical Engineer"
   ]
  },
  {
   "cell_type": "markdown",
   "metadata": {},
   "source": [
    "*I am interested in data science because it will enable me to use my maths, coding and probability skills to change a business for the better.*"
   ]
  },
  {
   "cell_type": "markdown",
   "metadata": {},
   "source": [
    "### my code multiplies the number 9 by itself"
   ]
  },
  {
   "cell_type": "code",
   "execution_count": 5,
   "metadata": {},
   "outputs": [
    {
     "data": {
      "text/plain": [
       "81"
      ]
     },
     "execution_count": 5,
     "metadata": {},
     "output_type": "execute_result"
    }
   ],
   "source": [
    "9**2"
   ]
  },
  {
   "cell_type": "markdown",
   "metadata": {},
   "source": [
    "\n",
    "---\n",
    "horizontal rule\n",
    "\n",
    "* bulleted\n",
    "* list\n",
    "\n",
    "\n",
    "<ol>\n",
    "    <li>this</li>\n",
    "    <li>is</li>\n",
    "    <li>the</li>\n",
    "    <li>numbered</li>\n",
    "    <li>list</li>\n",
    "</ol>    \n",
    "\n",
    "<table>\n",
    "<tr>\n",
    "    <th>Name</th>\n",
    "    <th>Age</th>\n",
    "</tr>    \n",
    "<tr>\n",
    "    <td>John</td>\n",
    "    <td>41</td>\n",
    "</tr>    \n",
    "<tr>\n",
    "    <td>Sarah</td>\n",
    "    <td>38</td>\n",
    "</tr>    \n",
    "</table>"
   ]
  },
  {
   "cell_type": "code",
   "execution_count": null,
   "metadata": {},
   "outputs": [],
   "source": []
  }
 ],
 "metadata": {
  "kernelspec": {
   "display_name": "Python 3 (ipykernel)",
   "language": "python",
   "name": "python3"
  },
  "language_info": {
   "codemirror_mode": {
    "name": "ipython",
    "version": 3
   },
   "file_extension": ".py",
   "mimetype": "text/x-python",
   "name": "python",
   "nbconvert_exporter": "python",
   "pygments_lexer": "ipython3",
   "version": "3.9.7"
  }
 },
 "nbformat": 4,
 "nbformat_minor": 4
}
